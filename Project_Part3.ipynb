{
 "cells": [
  {
   "cell_type": "markdown",
   "id": "1038d062-56ce-43a0-b626-2742091a57a1",
   "metadata": {},
   "source": [
    "# Introduction"
   ]
  },
  {
   "attachments": {},
   "cell_type": "markdown",
   "id": "331d1a24-1f51-4773-81a7-9391137fd444",
   "metadata": {},
   "source": [
    "In this study the authors looked at band measurements on the shells of snails. They investigated the placement and interaction between the banding patterns on the shells of 440 individual snails, 271 Cepaea nemoralis and 169 Cepaea hortensis, across 40 populations, distributed throughout the UK and mainland Europe. The data set I chose from this paper is looking at 86 snails from the 440 snails, the authors looked at the colour, banding, and shape of the shells for 86 of the snails used in the study."
   ]
  },
  {
   "attachments": {},
   "cell_type": "markdown",
   "id": "eb8a3249-50e8-4da3-b35b-9be28c1c7f31",
   "metadata": {},
   "source": [
    "# Project Part 3\n",
    "# 3.1\n",
    "1. Obtain the data file from the link provided below to the paper's supplementary information Tables S1-S3 https://pmc.ncbi.nlm.nih.gov/articles/instance/8207382/bin/ECE3-11-6634-s002.xlsx\n",
    "\n",
    "2. Open the downloaded file in Excel then save Supplementary Table 3, the third tab in the excel file, save Supplementary Table 3 as a csv. Save the file as \"snail_shells.csv\" in the same directory where the notebook is located."
   ]
  },
  {
   "cell_type": "code",
   "execution_count": null,
   "id": "f33ab4eb-735c-4768-bdf3-2b24e256a3dd",
   "metadata": {},
   "outputs": [],
   "source": [
    "import pandas as pd\n",
    "snail_shells = pd.read_csv(\"snail_shells.csv\", usecols=['population','id','location','age','colour','banding','width (mm)','height (mm)','weight (g)','shape (height/width)'], skiprows=2, nrows=86)\n",
    "snail = pd.DataFrame(snail_shells)\n",
    "snail.index.name=\"snail\"\n",
    "snail.head()\n",
    "#To import the data pandas needs to be installed, with pandas the data file that was saved as a csv can be read into the notebook.\n",
    "#As the data file is being read in, the data is cleaned before making it into a data frame.\n",
    "#The data is cleaned by removing the rows and columns that had NaN, or empty spaces by specifying the columns and rows that were to be kept. \n",
    "#Once the data is cleaned it will be saved into a data frame using pandas and the dataframe will be saved as \"snail\".\n",
    "#Set the index name of the snail data frame to be \"snail\" and look at the first 5 rows of the data frame."
   ]
  },
  {
   "cell_type": "markdown",
   "id": "c3992d86-84ba-4bd9-9c3c-c3dfd92eb59e",
   "metadata": {},
   "source": [
    "# 3.2"
   ]
  },
  {
   "cell_type": "code",
   "execution_count": null,
   "id": "041493a1-5239-4db4-bd1a-b6a9d4c45a13",
   "metadata": {},
   "outputs": [],
   "source": [
    "snail.shape"
   ]
  },
  {
   "cell_type": "markdown",
   "id": "6a3fd0c7-8187-4e9b-8bd8-11715b94e2fc",
   "metadata": {},
   "source": [
    "This data frame contains 86 rows which corresponds to the number of snails 86 that were selected for this data set from the 440 snails observed in the study with the 10 features of the snail shells corresponding to the 10 columns.\n",
    "1. The shape (height/width) of the snail shells and the location of the snails are two features I will investigate from this data set.\n",
    "   \n",
    "2. For the shape (height/width) of the snails, the \"describe\" function would show a table of the snail shape (height/width) showing the average around 0.78, the median would be around 0.77, the minimum around 0.7, the maximum is about 1, the count of how many snails shape that were observed is 86 and the standard deviation. There are 86 observations for the shape (height/width) of the snail shells and the average is around 0.78.\n",
    "\n",
    "   \n",
    "3. For the location feature, the \"describe\" function would be like describing the genotype from the markers in the Arabidopsis data, it would not have a table like the shape (height/width) feature showing a mean, min or max. The location feature would have the counts, how many locations, the top location, and how often the top location is seen in the data. The location feature would have 86 observations and would not have an average between the two locations, but the Jueu location occurs more often and accounts for more than half of the observations."
   ]
  },
  {
   "cell_type": "code",
   "execution_count": null,
   "id": "434cffb1-06a8-4528-8bd4-1ae1a25ed543",
   "metadata": {},
   "outputs": [],
   "source": [
    "print(snail['shape (height/width)'].describe())\n",
    "snail['location'].describe()"
   ]
  },
  {
   "cell_type": "markdown",
   "id": "ae78b14f-2081-4331-be16-45129f22774a",
   "metadata": {},
   "source": [
    "1. Both features have 86 observations as predicted above based on the data set and location and shape (height/width) features chosen.\n",
    "   \n",
    "2. The \"describe\" function for the shape (height/width) feature has an output of a table and the average was 0.771640 and I predicted around 0.78 from looking at the 86 values that ranged from 0.702 to 1.02 with a median of 0.765 in shape.\n",
    "   \n",
    "3. The \"describe\" function for the locations features as predicted did not give a table with the average, median, minimum and maximum values but the unique values corresponding to the two locations and the most frequent location was Jueu with 53 snails being found in that location out of the 86."
   ]
  },
  {
   "cell_type": "markdown",
   "id": "43bb7124-d317-4e3d-8758-ba0cb77934fa",
   "metadata": {},
   "source": [
    "# 3.3"
   ]
  },
  {
   "cell_type": "markdown",
   "id": "bf5a62db-a9ef-4937-8025-a676d17f6419",
   "metadata": {},
   "source": [
    "3.3.1\n",
    "- For the shape (height/width) feature I would make a histogram by using the displot option in the seaborn package and look at the distribution for the shape of the snail shells by the banding pattern feature observed in the data set. A histogram would be able to visually quantify how many times that shape of the snail shell was observed over the 86 snails. The histogram will show the distribution of the snail shell shapes with banding patterns to see if shape influences the type of banding patterns seen."
   ]
  },
  {
   "cell_type": "code",
   "execution_count": null,
   "id": "4bde186b-373e-4426-b71a-c4eaecfb9162",
   "metadata": {},
   "outputs": [],
   "source": [
    "import seaborn as sns\n",
    "sns.displot(\n",
    "    data=snail,\n",
    "    x='shape (height/width)',\n",
    "    hue='banding')\n",
    "#To make a distribution plot you first have to install the seaborn package\n",
    "#Then make a histogram for the shape (height/width) feature by using displot with the data \"snails\", the shape feature will be on the x-axis and then use the banding patterns observed for subcategorization of the snail shell shape."
   ]
  },
  {
   "cell_type": "markdown",
   "id": "5083bee5-ff3f-4b51-b320-34b4b575ed82",
   "metadata": {},
   "source": [
    "- The histogram above shows the distribution of the shape of the snail shells ranging from the minimum 0.70 and maximum 1.02 and what banding pattern falls into that shape of the snail shell. The median falls into the bin for 0.76 and 0.78 as seen in the describe function the 50% is at 0.765. The histogram shows that the shape of the snail shells for both the 10345 and 12345 banding pattern are highly observed between 0.765 and 0.81.\n",
    "   \n",
    "- The shape of the snail shells relates to the table/figure in the paper, Tables 1 and 2 which uses statistical testing to see the impact of shell shape, height, or weight relative to the width of the bands of the banding patterns.\n",
    "\n"
   ]
  },
  {
   "cell_type": "markdown",
   "id": "03f3b9bf-4b2e-4a61-93c8-fc183a311b2d",
   "metadata": {},
   "source": [
    "3.3.2\n",
    "- For the location feature I would make a strip plot from the catplot options in seaborn and compare against the shape and banding pattern features.\n",
    "  \n",
    "- A categorical plot like the strip plot will plot a number feature (shape) and a categorical feature (location) together and show a comparison similar to that of a histogram. The strip plot will show a comparison for the location of the snails and looking at the shape and banding pattern would give insight into what location may have a higher prevalence of a banding pattern type and if shape differs between location depending on the banding pattern."
   ]
  },
  {
   "cell_type": "code",
   "execution_count": null,
   "id": "3e941e46-a851-427c-aa2e-1bc4df78de27",
   "metadata": {},
   "outputs": [],
   "source": [
    "sns.catplot(data=snail,x='location',y='shape (height/width)',hue='banding')\n",
    "#Seaborn has a categorical plot option for plotting, the strip plot option from seaborn is the default for catplot and jitter will be used to distinguish between the data points.\n",
    "#Using the snail data the location feature is plotted against the shape (height/width) feature and the banding pattern will be used for subcatergorization of the snail locations."
   ]
  },
  {
   "cell_type": "markdown",
   "id": "2f16ff64-1ef1-4766-885a-163571064f04",
   "metadata": {},
   "source": [
    "- The strip plot above shows Vielha and Jueu the two locations, noted as unique under the 'describe' function with Jueu as the top location which has the most frequent observations. The Jueu location has observations for the three types of banding patterns on the snails shells, but this set of data mostly has data for the 12345 banding pattern.\n",
    "  \n",
    "- The location of the snails is similar to Figure 1 and 5 from the paper, Figure 1 shows the banding pattern phenotypes observed in the study while Figure 5 shows a comparison between the two species in the study for just the 12345 phenotype and its looking at the differences between each band."
   ]
  }
 ],
 "metadata": {
  "kernelspec": {
   "display_name": "Python 3 (ipykernel)",
   "language": "python",
   "name": "python3"
  },
  "language_info": {
   "codemirror_mode": {
    "name": "ipython",
    "version": 3
   },
   "file_extension": ".py",
   "mimetype": "text/x-python",
   "name": "python",
   "nbconvert_exporter": "python",
   "pygments_lexer": "ipython3",
   "version": "3.12.5"
  }
 },
 "nbformat": 4,
 "nbformat_minor": 5
}
